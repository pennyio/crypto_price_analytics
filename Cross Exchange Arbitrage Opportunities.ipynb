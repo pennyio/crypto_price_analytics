{
 "cells": [
  {
   "cell_type": "code",
   "execution_count": 1,
   "metadata": {
    "collapsed": false
   },
   "outputs": [],
   "source": [
    "from oauth2client.service_account import ServiceAccountCredentials\n",
    "from bs4 import BeautifulSoup\n",
    "\n",
    "import json\n",
    "import requests\n",
    "import gspread\n",
    "import datetime, time\n",
    "import os"
   ]
  },
  {
   "cell_type": "code",
   "execution_count": 2,
   "metadata": {
    "collapsed": true
   },
   "outputs": [],
   "source": [
    "def getJSON(exch,url):\n",
    "    start_time = time.time()\n",
    "    header = {'x-requested-with': 'XMLHttpRequest'}\n",
    "    mainPage = requests.get(url, headers = header)\n",
    "    data = mainPage.json()\n",
    "    #print('%s API Query finished in %s seconds') % (exch, str(round(time.time() - start_time,2)))\n",
    "    return data\n",
    "\n",
    "def getValue(data,layer):\n",
    "    if layer in ('IGNORE'):\n",
    "        return 0\n",
    "    else:\n",
    "        a = data\n",
    "        alist = layer.split(\",\")\n",
    "        for i in xrange(len(alist)):\n",
    "            a = a.get(alist[i])\n",
    "\n",
    "        if isinstance(a,list):\n",
    "            a = a[0]\n",
    "        return a\n",
    "\n",
    "def getArbPrem(dict_pair):\n",
    "    min_exch = min(dict_pair.keys(), key=(lambda k: dict_pair[k]))\n",
    "    max_exch = max(dict_pair.keys(), key=(lambda k: dict_pair[k]))\n",
    "    return dict_pair[max_exch] / dict_pair[min_exch]\n",
    "\n",
    "def getArbDir(dict_pair):\n",
    "    min_exch = min(dict_pair.keys(), key=(lambda k: dict_pair[k]))\n",
    "    max_exch = max(dict_pair.keys(), key=(lambda k: dict_pair[k]))\n",
    "    return min_exch + ' -> ' + max_exch"
   ]
  },
  {
   "cell_type": "code",
   "execution_count": 3,
   "metadata": {
    "collapsed": false
   },
   "outputs": [],
   "source": [
    "#Get USD/KRW Spot Rate\n",
    "currency_layer = 'http://www.apilayer.net/api/live?access_key=5a76ffa1f274620e53f1536251fa7201&format=1'\n",
    "usd_krw = getValue(getJSON('Currency Layer',currency_layer),'quotes,USDKRW')"
   ]
  },
  {
   "cell_type": "code",
   "execution_count": 36,
   "metadata": {
    "collapsed": true
   },
   "outputs": [],
   "source": [
    "#XRP Price URL\n",
    "coinone_ticker_xrp  = 'https://api.coinone.co.kr/ticker/?currency=xrp&format=json'\n",
    "korbit_ticker_xrp   = 'https://api.korbit.co.kr/v1/ticker/detailed?currency_pair=xrp_krw'\n",
    "bithumb_ticker_xrp  = 'https://api.bithumb.com/public/ticker/xrp'\n",
    "bitfinex_ticker_xrp = 'https://api.bitfinex.com/v1/pubticker/xrpusd'\n",
    "poloniex_ticker_xrp = 'https://poloniex.com/public?command=returnTicker&currencyPair=ALL'\n",
    "bitstamp_ticker_xrp = 'https://www.bitstamp.net/api/v2/ticker/xrpusd/'\n",
    "\n",
    "#BTC Price URL\n",
    "coinone_ticker_btc  = 'https://api.coinone.co.kr/ticker/?currency=btc&format=json'\n",
    "korbit_ticker_btc   = 'https://api.korbit.co.kr/v1/ticker/detailed?currency_pair=btc_krw'\n",
    "bithumb_ticker_btc  = 'https://api.bithumb.com/public/ticker/btc'\n",
    "bitfinex_ticker_btc = 'https://api.bitfinex.com/v1/pubticker/btcusd'\n",
    "gemini_ticker_btc   = 'https://api.gemini.com/v1/pubticker/btcusd'\n",
    "gdax_ticker_btc     = 'https://api.gdax.com/products/btc-usd/ticker'\n",
    "bitstamp_ticker_btc = 'https://www.bitstamp.net/api/v2/ticker/btcusd/'\n",
    "\n",
    "#LTC Price URL\n",
    "coinone_ticker_ltc  = 'https://api.coinone.co.kr/ticker/?currency=ltc&format=json'\n",
    "bithumb_ticker_ltc  = 'https://api.bithumb.com/public/ticker/ltc'\n",
    "bitfinex_ticker_ltc = 'https://api.bitfinex.com/v1/pubticker/ltcusd'\n",
    "gemini_ticker_ltc   = 'https://api.gemini.com/v1/pubticker/ltcusd'\n",
    "gdax_ticker_ltc     = 'https://api.gdax.com/products/ltc-usd/ticker'\n",
    "bitstamp_ticker_ltc = 'https://www.bitstamp.net/api/v2/ticker/ltcusd/'\n",
    "\n",
    "#ETH Price URL\n",
    "coinone_ticker_eth  = 'https://api.coinone.co.kr/ticker/?currency=eth&format=json'\n",
    "korbit_ticker_eth   = 'https://api.korbit.co.kr/v1/ticker/detailed?currency_pair=eth_krw'\n",
    "bithumb_ticker_eth  = 'https://api.bithumb.com/public/ticker/eth'\n",
    "bitfinex_ticker_eth = 'https://api.bitfinex.com/v1/pubticker/ethusd'\n",
    "gemini_ticker_eth   = 'https://api.gemini.com/v1/pubticker/ethusd'\n",
    "gdax_ticker_eth     = 'https://api.gdax.com/products/eth-usd/ticker'\n",
    "bitstamp_ticker_eth = 'https://www.bitstamp.net/api/v2/ticker/ethusd/'\n",
    "\n",
    "#ETH/XRP Price URL\n",
    "bittrex_ticker_ethxrp = 'https://bittrex.com/api/v1.1/public/getmarketsummary?market=eth-xrp'\n",
    "binance_ticker_ethxrp = 'https://api.binance.com/api/v1/ticker/24hr?symbol=XRPETH'\n",
    "\n",
    "#BTC/ETH Price URL\n",
    "bitfinex_ticker_btceth = 'https://api.bitfinex.com/v1/pubticker/ethbtc'\n",
    "gemini_ticker_btceth   = 'https://api.gemini.com/v1/pubticker/ethbtc'\n",
    "gdax_ticker_btceth     = 'https://api.gdax.com/products/eth-btc/ticker'\n",
    "bittrex_ticker_btceth  = 'https://bittrex.com/api/v1.1/public/getmarketsummary?market=btc-eth'\n",
    "bitstamp_ticker_btceth = 'https://www.bitstamp.net/api/v2/ticker/ethbtc/'\n",
    "binance_ticker_btceth  = 'https://api.binance.com/api/v1/ticker/24hr?symbol=ETHBTC'\n",
    "\n",
    "#BTC/XRP Price URL\n",
    "bitfinex_ticker_btcxrp = 'https://api.bitfinex.com/v1/pubticker/xrpbtc'\n",
    "bittrex_ticker_btcxrp = 'https://bittrex.com/api/v1.1/public/getmarketsummary?market=btc-xrp'\n",
    "bitstamp_ticker_btcxrp = 'https://www.bitstamp.net/api/v2/ticker/xrpbtc/'\n",
    "binance_ticker_btcxrp  = 'https://api.binance.com/api/v1/ticker/24hr?symbol=XRPBTC'\n",
    "\n",
    "#LTC/BTC Price URL\n",
    "binance_ticker_ltcbtc = 'https://api.binance.com/api/v1/ticker/24hr?symbol=LTCBTC'"
   ]
  },
  {
   "cell_type": "code",
   "execution_count": 37,
   "metadata": {
    "collapsed": false
   },
   "outputs": [],
   "source": [
    "#KRW Pairs\n",
    "xrp_dict = {  'CoinOne'  : float(getValue(getJSON('CoinOne',coinone_ticker_xrp),'last')) / usd_krw\n",
    "             ,'Korbit'   : float(getValue(getJSON('Korbit',korbit_ticker_xrp),'last')) / usd_krw\n",
    "             ,'Bithumb'  : float(getValue(getJSON('Bithumb',bithumb_ticker_xrp),'data,sell_price')) / usd_krw\n",
    "             ,'Bitfinex' : float(getValue(getJSON('Bitfinex',bitfinex_ticker_xrp),'last_price'))\n",
    "             ,'Poloniex' : float(getValue(getJSON('Poloniex',poloniex_ticker_xrp),'USDT_XRP,last'))\n",
    "             ,'Bitstamp' : float(getValue(getJSON('Bitstamp',bitstamp_ticker_xrp),'last'))\n",
    "           }\n",
    "\n",
    "btc_dict = {  'CoinOne'  : float(getValue(getJSON('CoinOne',coinone_ticker_btc),'last')) / usd_krw\n",
    "             ,'Korbit'   : float(getValue(getJSON('Korbit',korbit_ticker_btc),'last')) / usd_krw\n",
    "             ,'Bithumb'  : float(getValue(getJSON('Bithumb',bithumb_ticker_btc),'data,sell_price')) / usd_krw\n",
    "             ,'Bitfinex' : float(getValue(getJSON('Bitfinex',bitfinex_ticker_btc),'last_price'))\n",
    "             ,'Poloniex' : float(getValue(getJSON('Poloniex',poloniex_ticker_xrp),'USDT_BTC,last'))\n",
    "             ,'Gemini'   : float(getValue(getJSON('Gemini',gemini_ticker_btc),'last'))\n",
    "             ,'GDAX'     : float(getValue(getJSON('GDAX',gdax_ticker_btc),'ask'))\n",
    "             ,'Bitstamp' : float(getValue(getJSON('Bitstamp',bitstamp_ticker_btc),'last'))\n",
    "           }\n",
    "\n",
    "ltc_dict = {  'CoinOne'  : float(getValue(getJSON('CoinOne',coinone_ticker_ltc),'last')) / usd_krw\n",
    "             ,'Bithumb'  : float(getValue(getJSON('Bithumb',bithumb_ticker_ltc),'data,sell_price')) / usd_krw\n",
    "             ,'Bitfinex' : float(getValue(getJSON('Bitfinex',bitfinex_ticker_ltc),'last_price'))\n",
    "             ,'Poloniex' : float(getValue(getJSON('Poloniex',poloniex_ticker_xrp),'USDT_LTC,last'))\n",
    "             ,'GDAX'     : float(getValue(getJSON('GDAX',gdax_ticker_ltc),'ask'))\n",
    "             ,'Bitstamp' : float(getValue(getJSON('Bitstamp',bitstamp_ticker_ltc),'last'))\n",
    "           }\n",
    "\n",
    "eth_dict = {  'CoinOne'  : float(getValue(getJSON('CoinOne',coinone_ticker_eth),'last')) / usd_krw\n",
    "             ,'Korbit'   : float(getValue(getJSON('Korbit',korbit_ticker_eth),'last')) / usd_krw\n",
    "             ,'Bithumb'  : float(getValue(getJSON('Bithumb',bithumb_ticker_eth),'data,sell_price')) / usd_krw\n",
    "             ,'Bitfinex' : float(getValue(getJSON('Bitfinex',bitfinex_ticker_eth),'last_price'))\n",
    "             ,'Poloniex' : float(getValue(getJSON('Poloniex',poloniex_ticker_xrp),'USDT_ETH,last'))\n",
    "             ,'Gemini'   : float(getValue(getJSON('Gemini',gemini_ticker_eth),'last'))\n",
    "             ,'GDAX'     : float(getValue(getJSON('GDAX',gdax_ticker_eth),'ask'))\n",
    "             ,'Bitstamp' : float(getValue(getJSON('Bitstamp',bitstamp_ticker_eth),'last'))\n",
    "           }"
   ]
  },
  {
   "cell_type": "code",
   "execution_count": 45,
   "metadata": {
    "collapsed": false
   },
   "outputs": [],
   "source": [
    "#Arb Crosses\n",
    "btc_eth_dict = { 'Bitfinex' : float(getValue(getJSON('Bitfinex',bitfinex_ticker_btceth),'last_price'))\n",
    "                ,'Poloniex' : float(getValue(getJSON('Poloniex',poloniex_ticker_xrp),'BTC_ETH,last'))\n",
    "                ,'Gemini'   : float(getValue(getJSON('Gemini',gemini_ticker_btceth),'last'))\n",
    "                ,'GDAX'     : float(getValue(getJSON('GDAX',gdax_ticker_btceth),'ask'))\n",
    "                ,'Coinone'  : float(eth_dict['CoinOne'] / btc_dict['CoinOne'])\n",
    "                ,'Bithumb'  : float(eth_dict['Bithumb'] / btc_dict['Bithumb'])\n",
    "                ,'Korbit'   : float(eth_dict['Korbit']  / btc_dict['Korbit'])\n",
    "                ,'Bittrex'  : float(getJSON('Bittrex',bittrex_ticker_btceth)['result'][0]['Last'])\n",
    "                ,'Bitstamp' : float(getValue(getJSON('Bitstamp',bitstamp_ticker_btceth),'last'))\n",
    "                ,'BitstampX': float(eth_dict['Bitstamp']  / btc_dict['Bitstamp'])\n",
    "                ,'Binance'  : float(getValue(getJSON('Binance',binance_ticker_btceth),'lastPrice'))\n",
    "               }\n",
    "\n",
    "btc_xrp_dict = { 'Bitfinex'  : float(getValue(getJSON('Bitfinex',bitfinex_ticker_btcxrp),'last_price'))\n",
    "                ,'Poloniex'  : float(getValue(getJSON('Poloniex',poloniex_ticker_xrp),'BTC_XRP,last'))\n",
    "                ,'Coinone'   : float(xrp_dict['CoinOne'] / btc_dict['CoinOne'])\n",
    "                ,'Bithumb'   : float(xrp_dict['Bithumb'] / btc_dict['Bithumb'])\n",
    "                ,'Korbit'    : float(xrp_dict['Korbit']  / btc_dict['Korbit'])\n",
    "                ,'Bittrex'   : float(getJSON('Bittrex',bittrex_ticker_btcxrp)['result'][0]['Last'])\n",
    "                ,'Bitstamp'  : float(getValue(getJSON('Bitstamp',bitstamp_ticker_btcxrp),'last'))\n",
    "                ,'BitstampX' : float(xrp_dict['Bitstamp']  / btc_dict['Bitstamp'])\n",
    "                ,'Binance'   : float(getValue(getJSON('Binance',binance_ticker_btcxrp),'lastPrice'))\n",
    "               }\n",
    "\n",
    "ltc_xrp_dict = { 'Bitfinex' : float(xrp_dict['Bitfinex'] / ltc_dict['Bitfinex'])\n",
    "                ,'Poloniex' : float(xrp_dict['Poloniex'] / ltc_dict['Poloniex'])\n",
    "                ,'Coinone'  : float(xrp_dict['CoinOne']  / ltc_dict['CoinOne'])\n",
    "                ,'Bithumb'  : float(xrp_dict['Bithumb']  / ltc_dict['Bithumb'])\n",
    "                ,'BitstampX': float(xrp_dict['Bitstamp'] / ltc_dict['Bitstamp'])\n",
    "               }\n",
    "\n",
    "ltc_btc_dict = { 'Bitfinex' : float(btc_dict['Bitfinex'] / ltc_dict['Bitfinex'])\n",
    "                ,'Poloniex' : float(btc_dict['Poloniex'] / ltc_dict['Poloniex'])\n",
    "                ,'Coinone'  : float(btc_dict['CoinOne']  / ltc_dict['CoinOne'])\n",
    "                ,'Bithumb'  : float(btc_dict['Bithumb']  / ltc_dict['Bithumb'])\n",
    "                ,'BitstampX': float(btc_dict['Bitstamp'] / ltc_dict['Bitstamp'])\n",
    "                ,'Binance'   : 1/float(getValue(getJSON('Binance',binance_ticker_ltcbtc),'lastPrice'))                \n",
    "               }\n",
    "\n",
    "eth_xrp_dict = { 'Coinone'  : float(xrp_dict['CoinOne']  / eth_dict['CoinOne'])\n",
    "                ,'Korbit'   : float(xrp_dict['Korbit']   / eth_dict['Korbit'])\n",
    "                ,'Bithumb'  : float(xrp_dict['Bithumb']  / eth_dict['Bithumb'])\n",
    "                ,'Bitfinex' : float(xrp_dict['Bitfinex'] / eth_dict['Bitfinex'])\n",
    "                ,'Poloniex' : float(xrp_dict['Poloniex'] / eth_dict['Poloniex'])\n",
    "                ,'Bittrex'  : float(getJSON('Bittrex',bittrex_ticker_ethxrp)['result'][0]['Last'])\n",
    "                ,'Bitstamp' : float(xrp_dict['Bitstamp'] / eth_dict['Bitstamp'])\n",
    "                ,'Binance'   : float(getValue(getJSON('Binance',binance_ticker_ethxrp),'lastPrice'))\n",
    "               }"
   ]
  },
  {
   "cell_type": "code",
   "execution_count": 46,
   "metadata": {
    "collapsed": false
   },
   "outputs": [
    {
     "name": "stdout",
     "output_type": "stream",
     "text": [
      "BTC -> ETH : Gemini -> Bithumb\n",
      "1.04695\n"
     ]
    }
   ],
   "source": [
    "print 'BTC -> ETH : ' + getArbDir(btc_eth_dict)\n",
    "print round(getArbPrem(btc_eth_dict),5)"
   ]
  },
  {
   "cell_type": "code",
   "execution_count": 47,
   "metadata": {
    "collapsed": false
   },
   "outputs": [
    {
     "name": "stdout",
     "output_type": "stream",
     "text": [
      "XRP -> BTC : Korbit -> Bithumb\n",
      "1.05724\n"
     ]
    }
   ],
   "source": [
    "print 'XRP -> BTC : ' + getArbDir(btc_xrp_dict)\n",
    "print round(getArbPrem(btc_xrp_dict),5)"
   ]
  },
  {
   "cell_type": "code",
   "execution_count": 48,
   "metadata": {
    "collapsed": false
   },
   "outputs": [
    {
     "name": "stdout",
     "output_type": "stream",
     "text": [
      "XRP -> ETH : Korbit -> Binance\n",
      "1.04527\n"
     ]
    }
   ],
   "source": [
    "print 'XRP -> ETH : ' + getArbDir(eth_xrp_dict)\n",
    "print round(getArbPrem(eth_xrp_dict),5)"
   ]
  },
  {
   "cell_type": "code",
   "execution_count": 49,
   "metadata": {
    "collapsed": false
   },
   "outputs": [
    {
     "name": "stdout",
     "output_type": "stream",
     "text": [
      "LTC -> XRP : Coinone -> Bithumb\n",
      "1.00661\n"
     ]
    }
   ],
   "source": [
    "print 'LTC -> XRP : ' + getArbDir(ltc_xrp_dict)\n",
    "print round(getArbPrem(ltc_xrp_dict),5)"
   ]
  },
  {
   "cell_type": "code",
   "execution_count": 50,
   "metadata": {
    "collapsed": false
   },
   "outputs": [
    {
     "name": "stdout",
     "output_type": "stream",
     "text": [
      "LTC -> BTC : Bithumb -> Binance\n",
      "1.04103\n"
     ]
    }
   ],
   "source": [
    "print 'LTC -> BTC : ' + getArbDir(ltc_btc_dict)\n",
    "print round(getArbPrem(ltc_btc_dict),5)"
   ]
  },
  {
   "cell_type": "code",
   "execution_count": null,
   "metadata": {
    "collapsed": true
   },
   "outputs": [],
   "source": []
  }
 ],
 "metadata": {
  "kernelspec": {
   "display_name": "Python 2",
   "language": "python",
   "name": "python2"
  },
  "language_info": {
   "codemirror_mode": {
    "name": "ipython",
    "version": 2
   },
   "file_extension": ".py",
   "mimetype": "text/x-python",
   "name": "python",
   "nbconvert_exporter": "python",
   "pygments_lexer": "ipython2",
   "version": "2.7.13"
  }
 },
 "nbformat": 4,
 "nbformat_minor": 2
}
